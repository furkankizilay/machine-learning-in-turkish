{
 "cells": [
  {
   "cell_type": "code",
   "execution_count": 23,
   "id": "96cbe3c9",
   "metadata": {},
   "outputs": [],
   "source": [
    "import numpy as np\n",
    "import pandas as pd\n",
    "import statsmodels.api as sm\n",
    "import seaborn as sns\n",
    "import matplotlib.pyplot as plt\n",
    "from sklearn.preprocessing import scale, StandardScaler\n",
    "from sklearn.model_selection import train_test_split, GridSearchCV, cross_val_score\n",
    "from sklearn.metrics import confusion_matrix, accuracy_score, mean_squared_error, r2_score,roc_auc_score, roc_curve,classification_report\n",
    "from sklearn.linear_model import LogisticRegression\n",
    "from sklearn.neighbors import KNeighborsClassifier\n",
    "from sklearn.svm import SVC\n",
    "from sklearn.neural_network import MLPClassifier\n",
    "from sklearn.tree import DecisionTreeClassifier\n",
    "from sklearn.ensemble import GradientBoostingClassifier\n",
    "from sklearn.ensemble import RandomForestClassifier\n",
    "from catboost import CatBoostClassifier\n",
    "from lightgbm import LGBMClassifier\n",
    "from xgboost import XGBClassifier"
   ]
  },
  {
   "cell_type": "code",
   "execution_count": 10,
   "id": "d8296e6f",
   "metadata": {},
   "outputs": [],
   "source": [
    "df = pd.read_csv(\"diabetes.csv\")\n",
    "y = df[\"Outcome\"]\n",
    "X = df.drop([\"Outcome\"], axis = 1)\n",
    "X_train, X_test, y_train, y_test = train_test_split(X, y, test_size = 0.30, random_state = 42)"
   ]
  },
  {
   "cell_type": "code",
   "execution_count": 11,
   "id": "41954f65",
   "metadata": {},
   "outputs": [],
   "source": [
    "loj_model = LogisticRegression(solver = \"liblinear\").fit(X_train, y_train)"
   ]
  },
  {
   "cell_type": "code",
   "execution_count": 12,
   "id": "f19bc3ea",
   "metadata": {},
   "outputs": [],
   "source": [
    "knn_tuned = KNeighborsClassifier(n_neighbors = 11).fit(X_train, y_train)"
   ]
  },
  {
   "cell_type": "code",
   "execution_count": 13,
   "id": "8180165f",
   "metadata": {},
   "outputs": [],
   "source": [
    "mlpc_tuned = MLPClassifier(max_iter = 200000,solver = \"lbfgs\",activation = \"logistic\", alpha = 0.03, hidden_layer_sizes = (3,5)).fit(X_train, y_train)"
   ]
  },
  {
   "cell_type": "code",
   "execution_count": 14,
   "id": "f5180fa3",
   "metadata": {},
   "outputs": [],
   "source": [
    "cart_tuned = DecisionTreeClassifier(max_depth =5, min_samples_split=20).fit(X_train, y_train)"
   ]
  },
  {
   "cell_type": "code",
   "execution_count": 15,
   "id": "76bb7e9b",
   "metadata": {},
   "outputs": [
    {
     "name": "stdout",
     "output_type": "stream",
     "text": [
      "0:\tlearn: 0.6863312\ttotal: 168ms\tremaining: 33.3s\n",
      "1:\tlearn: 0.6811157\ttotal: 180ms\tremaining: 17.8s\n",
      "2:\tlearn: 0.6752970\ttotal: 192ms\tremaining: 12.6s\n",
      "3:\tlearn: 0.6697432\ttotal: 199ms\tremaining: 9.77s\n",
      "4:\tlearn: 0.6641758\ttotal: 207ms\tremaining: 8.05s\n",
      "5:\tlearn: 0.6576656\ttotal: 213ms\tremaining: 6.89s\n",
      "6:\tlearn: 0.6521870\ttotal: 220ms\tremaining: 6.06s\n",
      "7:\tlearn: 0.6465564\ttotal: 225ms\tremaining: 5.41s\n",
      "8:\tlearn: 0.6407595\ttotal: 231ms\tremaining: 4.89s\n",
      "9:\tlearn: 0.6357725\ttotal: 235ms\tremaining: 4.47s\n",
      "10:\tlearn: 0.6299942\ttotal: 241ms\tremaining: 4.14s\n",
      "11:\tlearn: 0.6240480\ttotal: 246ms\tremaining: 3.85s\n",
      "12:\tlearn: 0.6196095\ttotal: 251ms\tremaining: 3.62s\n",
      "13:\tlearn: 0.6148715\ttotal: 257ms\tremaining: 3.41s\n",
      "14:\tlearn: 0.6092626\ttotal: 262ms\tremaining: 3.23s\n",
      "15:\tlearn: 0.6046764\ttotal: 267ms\tremaining: 3.08s\n",
      "16:\tlearn: 0.6012725\ttotal: 273ms\tremaining: 2.94s\n",
      "17:\tlearn: 0.5958121\ttotal: 278ms\tremaining: 2.81s\n",
      "18:\tlearn: 0.5903243\ttotal: 282ms\tremaining: 2.69s\n",
      "19:\tlearn: 0.5866024\ttotal: 287ms\tremaining: 2.58s\n",
      "20:\tlearn: 0.5831390\ttotal: 292ms\tremaining: 2.48s\n",
      "21:\tlearn: 0.5787381\ttotal: 296ms\tremaining: 2.4s\n",
      "22:\tlearn: 0.5749016\ttotal: 301ms\tremaining: 2.32s\n",
      "23:\tlearn: 0.5703199\ttotal: 306ms\tremaining: 2.24s\n",
      "24:\tlearn: 0.5662368\ttotal: 311ms\tremaining: 2.17s\n",
      "25:\tlearn: 0.5628682\ttotal: 315ms\tremaining: 2.11s\n",
      "26:\tlearn: 0.5589082\ttotal: 320ms\tremaining: 2.05s\n",
      "27:\tlearn: 0.5543910\ttotal: 325ms\tremaining: 2s\n",
      "28:\tlearn: 0.5503864\ttotal: 330ms\tremaining: 1.95s\n",
      "29:\tlearn: 0.5470574\ttotal: 335ms\tremaining: 1.9s\n",
      "30:\tlearn: 0.5441267\ttotal: 340ms\tremaining: 1.85s\n",
      "31:\tlearn: 0.5396280\ttotal: 345ms\tremaining: 1.81s\n",
      "32:\tlearn: 0.5356242\ttotal: 350ms\tremaining: 1.77s\n",
      "33:\tlearn: 0.5315397\ttotal: 356ms\tremaining: 1.74s\n",
      "34:\tlearn: 0.5279847\ttotal: 362ms\tremaining: 1.71s\n",
      "35:\tlearn: 0.5248380\ttotal: 367ms\tremaining: 1.67s\n",
      "36:\tlearn: 0.5223885\ttotal: 372ms\tremaining: 1.64s\n",
      "37:\tlearn: 0.5198269\ttotal: 377ms\tremaining: 1.61s\n",
      "38:\tlearn: 0.5167431\ttotal: 382ms\tremaining: 1.58s\n",
      "39:\tlearn: 0.5138833\ttotal: 387ms\tremaining: 1.55s\n",
      "40:\tlearn: 0.5101494\ttotal: 393ms\tremaining: 1.52s\n",
      "41:\tlearn: 0.5066102\ttotal: 398ms\tremaining: 1.5s\n",
      "42:\tlearn: 0.5033714\ttotal: 403ms\tremaining: 1.47s\n",
      "43:\tlearn: 0.5005898\ttotal: 408ms\tremaining: 1.45s\n",
      "44:\tlearn: 0.4980703\ttotal: 413ms\tremaining: 1.42s\n",
      "45:\tlearn: 0.4959251\ttotal: 418ms\tremaining: 1.4s\n",
      "46:\tlearn: 0.4933987\ttotal: 424ms\tremaining: 1.38s\n",
      "47:\tlearn: 0.4906194\ttotal: 428ms\tremaining: 1.36s\n",
      "48:\tlearn: 0.4878359\ttotal: 433ms\tremaining: 1.33s\n",
      "49:\tlearn: 0.4850755\ttotal: 438ms\tremaining: 1.31s\n",
      "50:\tlearn: 0.4825927\ttotal: 444ms\tremaining: 1.3s\n",
      "51:\tlearn: 0.4798298\ttotal: 450ms\tremaining: 1.28s\n",
      "52:\tlearn: 0.4776108\ttotal: 455ms\tremaining: 1.26s\n",
      "53:\tlearn: 0.4754405\ttotal: 460ms\tremaining: 1.24s\n",
      "54:\tlearn: 0.4733501\ttotal: 464ms\tremaining: 1.22s\n",
      "55:\tlearn: 0.4706076\ttotal: 469ms\tremaining: 1.21s\n",
      "56:\tlearn: 0.4677355\ttotal: 474ms\tremaining: 1.19s\n",
      "57:\tlearn: 0.4656740\ttotal: 480ms\tremaining: 1.17s\n",
      "58:\tlearn: 0.4637413\ttotal: 485ms\tremaining: 1.16s\n",
      "59:\tlearn: 0.4615248\ttotal: 490ms\tremaining: 1.14s\n",
      "60:\tlearn: 0.4599759\ttotal: 495ms\tremaining: 1.13s\n",
      "61:\tlearn: 0.4583985\ttotal: 497ms\tremaining: 1.11s\n",
      "62:\tlearn: 0.4567064\ttotal: 503ms\tremaining: 1.09s\n",
      "63:\tlearn: 0.4540942\ttotal: 508ms\tremaining: 1.08s\n",
      "64:\tlearn: 0.4529822\ttotal: 510ms\tremaining: 1.06s\n",
      "65:\tlearn: 0.4512090\ttotal: 515ms\tremaining: 1.04s\n",
      "66:\tlearn: 0.4486739\ttotal: 521ms\tremaining: 1.03s\n",
      "67:\tlearn: 0.4467865\ttotal: 526ms\tremaining: 1.02s\n",
      "68:\tlearn: 0.4449614\ttotal: 531ms\tremaining: 1.01s\n",
      "69:\tlearn: 0.4426120\ttotal: 536ms\tremaining: 996ms\n",
      "70:\tlearn: 0.4401612\ttotal: 542ms\tremaining: 985ms\n",
      "71:\tlearn: 0.4380696\ttotal: 547ms\tremaining: 973ms\n",
      "72:\tlearn: 0.4367153\ttotal: 553ms\tremaining: 962ms\n",
      "73:\tlearn: 0.4353223\ttotal: 558ms\tremaining: 951ms\n",
      "74:\tlearn: 0.4339943\ttotal: 563ms\tremaining: 939ms\n",
      "75:\tlearn: 0.4315641\ttotal: 569ms\tremaining: 928ms\n",
      "76:\tlearn: 0.4298680\ttotal: 573ms\tremaining: 916ms\n",
      "77:\tlearn: 0.4285275\ttotal: 578ms\tremaining: 904ms\n",
      "78:\tlearn: 0.4265791\ttotal: 583ms\tremaining: 893ms\n",
      "79:\tlearn: 0.4244024\ttotal: 588ms\tremaining: 883ms\n",
      "80:\tlearn: 0.4228361\ttotal: 593ms\tremaining: 872ms\n",
      "81:\tlearn: 0.4214212\ttotal: 598ms\tremaining: 861ms\n",
      "82:\tlearn: 0.4200602\ttotal: 603ms\tremaining: 851ms\n",
      "83:\tlearn: 0.4184320\ttotal: 608ms\tremaining: 840ms\n",
      "84:\tlearn: 0.4167986\ttotal: 613ms\tremaining: 830ms\n",
      "85:\tlearn: 0.4156404\ttotal: 618ms\tremaining: 820ms\n",
      "86:\tlearn: 0.4140656\ttotal: 623ms\tremaining: 809ms\n",
      "87:\tlearn: 0.4124223\ttotal: 628ms\tremaining: 799ms\n",
      "88:\tlearn: 0.4107329\ttotal: 633ms\tremaining: 789ms\n",
      "89:\tlearn: 0.4090922\ttotal: 638ms\tremaining: 780ms\n",
      "90:\tlearn: 0.4075416\ttotal: 643ms\tremaining: 770ms\n",
      "91:\tlearn: 0.4062399\ttotal: 648ms\tremaining: 760ms\n",
      "92:\tlearn: 0.4044658\ttotal: 652ms\tremaining: 751ms\n",
      "93:\tlearn: 0.4030179\ttotal: 658ms\tremaining: 742ms\n",
      "94:\tlearn: 0.4012034\ttotal: 663ms\tremaining: 733ms\n",
      "95:\tlearn: 0.3994677\ttotal: 668ms\tremaining: 724ms\n",
      "96:\tlearn: 0.3983236\ttotal: 673ms\tremaining: 715ms\n",
      "97:\tlearn: 0.3969830\ttotal: 678ms\tremaining: 705ms\n",
      "98:\tlearn: 0.3955620\ttotal: 683ms\tremaining: 696ms\n",
      "99:\tlearn: 0.3946122\ttotal: 688ms\tremaining: 688ms\n",
      "100:\tlearn: 0.3932345\ttotal: 693ms\tremaining: 679ms\n",
      "101:\tlearn: 0.3920746\ttotal: 699ms\tremaining: 671ms\n",
      "102:\tlearn: 0.3911707\ttotal: 704ms\tremaining: 663ms\n",
      "103:\tlearn: 0.3895752\ttotal: 709ms\tremaining: 655ms\n",
      "104:\tlearn: 0.3880976\ttotal: 715ms\tremaining: 647ms\n",
      "105:\tlearn: 0.3867508\ttotal: 721ms\tremaining: 639ms\n",
      "106:\tlearn: 0.3855281\ttotal: 726ms\tremaining: 631ms\n",
      "107:\tlearn: 0.3841015\ttotal: 731ms\tremaining: 623ms\n",
      "108:\tlearn: 0.3829276\ttotal: 736ms\tremaining: 615ms\n",
      "109:\tlearn: 0.3818795\ttotal: 742ms\tremaining: 607ms\n",
      "110:\tlearn: 0.3809667\ttotal: 747ms\tremaining: 599ms\n",
      "111:\tlearn: 0.3790017\ttotal: 752ms\tremaining: 591ms\n",
      "112:\tlearn: 0.3774333\ttotal: 757ms\tremaining: 583ms\n",
      "113:\tlearn: 0.3762372\ttotal: 762ms\tremaining: 575ms\n",
      "114:\tlearn: 0.3750418\ttotal: 767ms\tremaining: 567ms\n",
      "115:\tlearn: 0.3735203\ttotal: 772ms\tremaining: 559ms\n",
      "116:\tlearn: 0.3727671\ttotal: 777ms\tremaining: 551ms\n",
      "117:\tlearn: 0.3713847\ttotal: 781ms\tremaining: 543ms\n",
      "118:\tlearn: 0.3705588\ttotal: 787ms\tremaining: 535ms\n",
      "119:\tlearn: 0.3694386\ttotal: 791ms\tremaining: 528ms\n",
      "120:\tlearn: 0.3687438\ttotal: 797ms\tremaining: 520ms\n",
      "121:\tlearn: 0.3679429\ttotal: 802ms\tremaining: 513ms\n",
      "122:\tlearn: 0.3666192\ttotal: 806ms\tremaining: 505ms\n",
      "123:\tlearn: 0.3654787\ttotal: 811ms\tremaining: 497ms\n",
      "124:\tlearn: 0.3643185\ttotal: 817ms\tremaining: 490ms\n",
      "125:\tlearn: 0.3636195\ttotal: 821ms\tremaining: 482ms\n",
      "126:\tlearn: 0.3625184\ttotal: 827ms\tremaining: 475ms\n",
      "127:\tlearn: 0.3609778\ttotal: 832ms\tremaining: 468ms\n",
      "128:\tlearn: 0.3595979\ttotal: 836ms\tremaining: 460ms\n",
      "129:\tlearn: 0.3583702\ttotal: 841ms\tremaining: 453ms\n",
      "130:\tlearn: 0.3569225\ttotal: 846ms\tremaining: 446ms\n",
      "131:\tlearn: 0.3558535\ttotal: 851ms\tremaining: 438ms\n",
      "132:\tlearn: 0.3548312\ttotal: 855ms\tremaining: 431ms\n",
      "133:\tlearn: 0.3533459\ttotal: 860ms\tremaining: 424ms\n",
      "134:\tlearn: 0.3524239\ttotal: 865ms\tremaining: 417ms\n",
      "135:\tlearn: 0.3517958\ttotal: 871ms\tremaining: 410ms\n",
      "136:\tlearn: 0.3504984\ttotal: 877ms\tremaining: 403ms\n",
      "137:\tlearn: 0.3497339\ttotal: 882ms\tremaining: 396ms\n",
      "138:\tlearn: 0.3488643\ttotal: 888ms\tremaining: 390ms\n",
      "139:\tlearn: 0.3482265\ttotal: 893ms\tremaining: 383ms\n",
      "140:\tlearn: 0.3470774\ttotal: 898ms\tremaining: 376ms\n",
      "141:\tlearn: 0.3458237\ttotal: 904ms\tremaining: 369ms\n",
      "142:\tlearn: 0.3445470\ttotal: 911ms\tremaining: 363ms\n",
      "143:\tlearn: 0.3436377\ttotal: 916ms\tremaining: 356ms\n",
      "144:\tlearn: 0.3426585\ttotal: 921ms\tremaining: 349ms\n",
      "145:\tlearn: 0.3417233\ttotal: 926ms\tremaining: 342ms\n",
      "146:\tlearn: 0.3407541\ttotal: 931ms\tremaining: 336ms\n",
      "147:\tlearn: 0.3397798\ttotal: 936ms\tremaining: 329ms\n",
      "148:\tlearn: 0.3390128\ttotal: 941ms\tremaining: 322ms\n",
      "149:\tlearn: 0.3381272\ttotal: 946ms\tremaining: 315ms\n",
      "150:\tlearn: 0.3374740\ttotal: 951ms\tremaining: 309ms\n",
      "151:\tlearn: 0.3365500\ttotal: 956ms\tremaining: 302ms\n",
      "152:\tlearn: 0.3358489\ttotal: 961ms\tremaining: 295ms\n",
      "153:\tlearn: 0.3346096\ttotal: 966ms\tremaining: 288ms\n",
      "154:\tlearn: 0.3335622\ttotal: 971ms\tremaining: 282ms\n",
      "155:\tlearn: 0.3330435\ttotal: 976ms\tremaining: 275ms\n",
      "156:\tlearn: 0.3323843\ttotal: 981ms\tremaining: 269ms\n",
      "157:\tlearn: 0.3312172\ttotal: 987ms\tremaining: 262ms\n",
      "158:\tlearn: 0.3299437\ttotal: 992ms\tremaining: 256ms\n",
      "159:\tlearn: 0.3286515\ttotal: 997ms\tremaining: 249ms\n",
      "160:\tlearn: 0.3275885\ttotal: 1s\tremaining: 243ms\n",
      "161:\tlearn: 0.3266739\ttotal: 1.01s\tremaining: 236ms\n",
      "162:\tlearn: 0.3258986\ttotal: 1.01s\tremaining: 229ms\n",
      "163:\tlearn: 0.3249133\ttotal: 1.01s\tremaining: 223ms\n",
      "164:\tlearn: 0.3241480\ttotal: 1.02s\tremaining: 217ms\n",
      "165:\tlearn: 0.3237404\ttotal: 1.03s\tremaining: 210ms\n",
      "166:\tlearn: 0.3228217\ttotal: 1.03s\tremaining: 204ms\n",
      "167:\tlearn: 0.3218088\ttotal: 1.04s\tremaining: 197ms\n",
      "168:\tlearn: 0.3209179\ttotal: 1.04s\tremaining: 191ms\n"
     ]
    },
    {
     "name": "stdout",
     "output_type": "stream",
     "text": [
      "169:\tlearn: 0.3200101\ttotal: 1.05s\tremaining: 185ms\n",
      "170:\tlearn: 0.3188984\ttotal: 1.05s\tremaining: 178ms\n",
      "171:\tlearn: 0.3178642\ttotal: 1.06s\tremaining: 172ms\n",
      "172:\tlearn: 0.3172455\ttotal: 1.06s\tremaining: 166ms\n",
      "173:\tlearn: 0.3166261\ttotal: 1.07s\tremaining: 159ms\n",
      "174:\tlearn: 0.3157320\ttotal: 1.07s\tremaining: 153ms\n",
      "175:\tlearn: 0.3149761\ttotal: 1.08s\tremaining: 147ms\n",
      "176:\tlearn: 0.3142430\ttotal: 1.08s\tremaining: 141ms\n",
      "177:\tlearn: 0.3138263\ttotal: 1.09s\tremaining: 134ms\n",
      "178:\tlearn: 0.3133229\ttotal: 1.09s\tremaining: 128ms\n",
      "179:\tlearn: 0.3124656\ttotal: 1.1s\tremaining: 122ms\n",
      "180:\tlearn: 0.3114844\ttotal: 1.1s\tremaining: 116ms\n",
      "181:\tlearn: 0.3109799\ttotal: 1.11s\tremaining: 109ms\n",
      "182:\tlearn: 0.3105137\ttotal: 1.11s\tremaining: 103ms\n",
      "183:\tlearn: 0.3094123\ttotal: 1.12s\tremaining: 97.1ms\n",
      "184:\tlearn: 0.3087045\ttotal: 1.12s\tremaining: 91ms\n",
      "185:\tlearn: 0.3079423\ttotal: 1.13s\tremaining: 84.9ms\n",
      "186:\tlearn: 0.3071831\ttotal: 1.13s\tremaining: 78.8ms\n",
      "187:\tlearn: 0.3061123\ttotal: 1.14s\tremaining: 72.6ms\n",
      "188:\tlearn: 0.3054302\ttotal: 1.14s\tremaining: 66.5ms\n",
      "189:\tlearn: 0.3048047\ttotal: 1.15s\tremaining: 60.4ms\n",
      "190:\tlearn: 0.3042241\ttotal: 1.15s\tremaining: 54.3ms\n",
      "191:\tlearn: 0.3036602\ttotal: 1.16s\tremaining: 48.2ms\n",
      "192:\tlearn: 0.3028507\ttotal: 1.16s\tremaining: 42.2ms\n",
      "193:\tlearn: 0.3019733\ttotal: 1.17s\tremaining: 36.1ms\n",
      "194:\tlearn: 0.3009586\ttotal: 1.17s\tremaining: 30.1ms\n",
      "195:\tlearn: 0.3001835\ttotal: 1.18s\tremaining: 24ms\n",
      "196:\tlearn: 0.2999266\ttotal: 1.18s\tremaining: 18ms\n",
      "197:\tlearn: 0.2993811\ttotal: 1.19s\tremaining: 12ms\n",
      "198:\tlearn: 0.2986293\ttotal: 1.19s\tremaining: 5.98ms\n",
      "199:\tlearn: 0.2980044\ttotal: 1.2s\tremaining: 0us\n"
     ]
    }
   ],
   "source": [
    "catb_tuned = CatBoostClassifier(depth = 8, iterations = 200, learning_rate = 0.01).fit(X_train, y_train)"
   ]
  },
  {
   "cell_type": "code",
   "execution_count": 16,
   "id": "227ee90d",
   "metadata": {},
   "outputs": [],
   "source": [
    "gbm_tuned = GradientBoostingClassifier(learning_rate = 0.005, max_depth = 5,n_estimators = 1000).fit(X_train, y_train)"
   ]
  },
  {
   "cell_type": "code",
   "execution_count": 19,
   "id": "cfe92c2b",
   "metadata": {},
   "outputs": [],
   "source": [
    "lgbm_tuned = LGBMClassifier(learning_rate = 0.01, max_depth = 1,n_estimators = 500).fit(X_train, y_train)"
   ]
  },
  {
   "cell_type": "code",
   "execution_count": 20,
   "id": "1ca56954",
   "metadata": {},
   "outputs": [],
   "source": [
    "rf_tuned = RandomForestClassifier(max_features = 7, min_samples_split = 10, n_estimators = 200).fit(X_train, y_train)"
   ]
  },
  {
   "cell_type": "code",
   "execution_count": 21,
   "id": "bbf79cc2",
   "metadata": {},
   "outputs": [],
   "source": [
    "svm_tuned = SVC(C = 2, kernel = \"linear\").fit(X_train, y_train)"
   ]
  },
  {
   "cell_type": "code",
   "execution_count": 24,
   "id": "c3fab754",
   "metadata": {},
   "outputs": [
    {
     "name": "stdout",
     "output_type": "stream",
     "text": [
      "[22:15:00] WARNING: C:/Users/Administrator/workspace/xgboost-win64_release_1.4.0/src/learner.cc:1095: Starting in XGBoost 1.3.0, the default evaluation metric used with the objective 'binary:logistic' was changed from 'error' to 'logloss'. Explicitly set eval_metric if you'd like to restore the old behavior.\n"
     ]
    }
   ],
   "source": [
    "xgb_tuned = XGBClassifier(use_label_encoder =False, learning_rate = 0.001, max_depth=7, n_estimators = 500, subsample = 0.6).fit(X_train, y_train)"
   ]
  },
  {
   "cell_type": "code",
   "execution_count": 26,
   "id": "0be86da9",
   "metadata": {},
   "outputs": [],
   "source": [
    "modeller = [\n",
    "    knn_tuned,\n",
    "    loj_model,\n",
    "    svm_tuned,\n",
    "    mlpc_tuned,\n",
    "    cart_tuned,\n",
    "    rf_tuned,\n",
    "    gbm_tuned,\n",
    "    catb_tuned,\n",
    "    lgbm_tuned,\n",
    "    xgb_tuned\n",
    "]\n",
    "\n",
    "sonuclar = []\n",
    "sonuclar = pd.DataFrame(columns = [\"Modeller\", \"Accuracy\"])\n",
    "\n",
    "for model in modeller :\n",
    "    isimler = model.__class__.__name__\n",
    "    y_pred = model.predict(X_test)\n",
    "    dogruluk = accuracy_score(y_test, y_pred)\n",
    "    sonuc = pd.DataFrame([[isimler, dogruluk*100]], columns = [\"Modeller\",\"Accuracy\"])\n",
    "    sonuclar = sonuclar.append(sonuc)"
   ]
  },
  {
   "cell_type": "code",
   "execution_count": 27,
   "id": "4b6d3e88",
   "metadata": {},
   "outputs": [
    {
     "data": {
      "image/png": "[encoded data removed]",
      "text/plain": [
       "<Figure size 432x288 with 1 Axes>"
      ]
     },
     "metadata": {
      "needs_background": "light"
     },
     "output_type": "display_data"
    }
   ],
   "source": [
    "sns.barplot(x = \"Accuracy\", y= \"Modeller\", data = sonuclar, color = \"r\")\n",
    "plt.xlabel(\"Accuracy %\")\n",
    "plt.title(\"Modellerin doğruluk oranları\");"
   ]
  },
  {
   "cell_type": "code",
   "execution_count": 32,
   "id": "423c51a3",
   "metadata": {},
   "outputs": [
    {
     "data": {
      "text/html": [
       "<div>\n",
       "<style scoped>\n",
       "    .dataframe tbody tr th:only-of-type {\n",
       "        vertical-align: middle;\n",
       "    }\n",
       "\n",
       "    .dataframe tbody tr th {\n",
       "        vertical-align: top;\n",
       "    }\n",
       "\n",
       "    .dataframe thead th {\n",
       "        text-align: right;\n",
       "    }\n",
       "</style>\n",
       "<table border=\"1\" class=\"dataframe\">\n",
       "  <thead>\n",
       "    <tr style=\"text-align: right;\">\n",
       "      <th></th>\n",
       "      <th>Modeller</th>\n",
       "      <th>Accuracy</th>\n",
       "    </tr>\n",
       "  </thead>\n",
       "  <tbody>\n",
       "    <tr>\n",
       "      <th>0</th>\n",
       "      <td>LGBMClassifier</td>\n",
       "      <td>75.757576</td>\n",
       "    </tr>\n",
       "    <tr>\n",
       "      <th>0</th>\n",
       "      <td>XGBClassifier</td>\n",
       "      <td>75.757576</td>\n",
       "    </tr>\n",
       "    <tr>\n",
       "      <th>0</th>\n",
       "      <td>LogisticRegression</td>\n",
       "      <td>75.324675</td>\n",
       "    </tr>\n",
       "    <tr>\n",
       "      <th>0</th>\n",
       "      <td>DecisionTreeClassifier</td>\n",
       "      <td>75.324675</td>\n",
       "    </tr>\n",
       "    <tr>\n",
       "      <th>0</th>\n",
       "      <td>CatBoostClassifier</td>\n",
       "      <td>75.324675</td>\n",
       "    </tr>\n",
       "    <tr>\n",
       "      <th>0</th>\n",
       "      <td>RandomForestClassifier</td>\n",
       "      <td>74.891775</td>\n",
       "    </tr>\n",
       "    <tr>\n",
       "      <th>0</th>\n",
       "      <td>SVC</td>\n",
       "      <td>74.458874</td>\n",
       "    </tr>\n",
       "    <tr>\n",
       "      <th>0</th>\n",
       "      <td>GradientBoostingClassifier</td>\n",
       "      <td>74.025974</td>\n",
       "    </tr>\n",
       "    <tr>\n",
       "      <th>0</th>\n",
       "      <td>KNeighborsClassifier</td>\n",
       "      <td>73.160173</td>\n",
       "    </tr>\n",
       "    <tr>\n",
       "      <th>0</th>\n",
       "      <td>MLPClassifier</td>\n",
       "      <td>64.935065</td>\n",
       "    </tr>\n",
       "  </tbody>\n",
       "</table>\n",
       "</div>"
      ],
      "text/plain": [
       "                     Modeller   Accuracy\n",
       "0              LGBMClassifier  75.757576\n",
       "0               XGBClassifier  75.757576\n",
       "0          LogisticRegression  75.324675\n",
       "0      DecisionTreeClassifier  75.324675\n",
       "0          CatBoostClassifier  75.324675\n",
       "0      RandomForestClassifier  74.891775\n",
       "0                         SVC  74.458874\n",
       "0  GradientBoostingClassifier  74.025974\n",
       "0        KNeighborsClassifier  73.160173\n",
       "0               MLPClassifier  64.935065"
      ]
     },
     "execution_count": 32,
     "metadata": {},
     "output_type": "execute_result"
    }
   ],
   "source": [
    "sonuclar.sort_values(by = \"Accuracy\", ascending = False)"
   ]
  },
  {
   "cell_type": "markdown",
   "id": "926f416f",
   "metadata": {},
   "source": [
    "## Daha Başka Ne Yapılabilir"
   ]
  },
  {
   "cell_type": "markdown",
   "id": "540c9f57",
   "metadata": {},
   "source": [
    "1. Değişken türetme / değişken mühendisliği (var olan veri setinden yeni değişkenler üretme)\n",
    "2. Değişken seçme\n",
    "3. Otomatik ML\n",
    "4. Model deployment"
   ]
  },
  {
   "cell_type": "code",
   "execution_count": null,
   "id": "dacd0315",
   "metadata": {},
   "outputs": [],
   "source": []
  }
 ],
 "metadata": {
  "kernelspec": {
   "display_name": "Python 3",
   "language": "python",
   "name": "python3"
  },
  "language_info": {
   "codemirror_mode": {
    "name": "ipython",
    "version": 3
   },
   "file_extension": ".py",
   "mimetype": "text/x-python",
   "name": "python",
   "nbconvert_exporter": "python",
   "pygments_lexer": "ipython3",
   "version": "3.8.8"
  }
 },
 "nbformat": 4,
 "nbformat_minor": 5
}
