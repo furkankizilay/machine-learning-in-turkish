{
 "cells": [
  {
   "cell_type": "markdown",
   "id": "a12d5364",
   "metadata": {},
   "source": [
    "# Machine Learning 401"
   ]
  },
  {
   "cell_type": "markdown",
   "id": "a2d3fd1c",
   "metadata": {},
   "source": [
    "## CART "
   ]
  },
  {
   "cell_type": "markdown",
   "id": "b30927c0",
   "metadata": {},
   "source": [
    "* Amaç veri seti içersindeki karmaşık yapıları basit karar yapılarına dönüştürmektedir.\n",
    "* Heterojen veri setleri belirlenmiş bir hedef değişkene göre homojen alt gruplara ayrılır.\n",
    "* Tekli ağaç modeli vardır."
   ]
  },
  {
   "attachments": {
    "Screenshot%202021-10-11%20131735.png": {
     "image/png": "[encoded data removed]"
    }
   },
   "cell_type": "markdown",
   "id": "da14391d",
   "metadata": {},
   "source": [
    "![Screenshot%202021-10-11%20131735.png](attachment:Screenshot%202021-10-11%20131735.png)"
   ]
  },
  {
   "cell_type": "markdown",
   "id": "ac496719",
   "metadata": {},
   "source": [
    "### Model ve Tahmin "
   ]
  },
  {
   "cell_type": "code",
   "execution_count": 1,
   "id": "bf6058e3",
   "metadata": {},
   "outputs": [],
   "source": [
    "import numpy as np\n",
    "import pandas as pd\n",
    "import statsmodels.api as sm\n",
    "import seaborn as sns\n",
    "import matplotlib.pyplot as plt\n",
    "from sklearn.preprocessing import scale, StandardScaler\n",
    "from sklearn.model_selection import train_test_split, GridSearchCV, cross_val_score\n",
    "from sklearn.metrics import confusion_matrix, accuracy_score, mean_squared_error, r2_score,roc_auc_score, roc_curve,classification_report\n",
    "from sklearn.linear_model import LogisticRegression\n",
    "from sklearn.neighbors import KNeighborsClassifier\n",
    "from sklearn.svm import SVC\n",
    "from sklearn.neural_network import MLPClassifier\n",
    "from sklearn.tree import DecisionTreeClassifier\n",
    "from sklearn.ensemble import GradientBoostingClassifier"
   ]
  },
  {
   "cell_type": "code",
   "execution_count": 2,
   "id": "71e4dd2e",
   "metadata": {},
   "outputs": [],
   "source": [
    "import warnings\n",
    "warnings.filterwarnings(\"ignore\", category = DeprecationWarning)\n",
    "warnings.filterwarnings(\"ignore\", category = FutureWarning)"
   ]
  },
  {
   "cell_type": "code",
   "execution_count": 3,
   "id": "a5958971",
   "metadata": {},
   "outputs": [],
   "source": [
    "df = pd.read_csv(\"diabetes.csv\")\n",
    "y = df[\"Outcome\"]\n",
    "X = df.drop([\"Outcome\"], axis = 1)\n",
    "X_train, X_test, y_train, y_test = train_test_split(X, y, test_size = 0.30, random_state = 42)"
   ]
  },
  {
   "cell_type": "code",
   "execution_count": 4,
   "id": "71302f54",
   "metadata": {},
   "outputs": [],
   "source": [
    "cart_model = DecisionTreeClassifier().fit(X_train, y_train)"
   ]
  },
  {
   "cell_type": "code",
   "execution_count": 5,
   "id": "e8a8148e",
   "metadata": {},
   "outputs": [
    {
     "data": {
      "text/plain": [
       "DecisionTreeClassifier()"
      ]
     },
     "execution_count": 5,
     "metadata": {},
     "output_type": "execute_result"
    }
   ],
   "source": [
    "cart_model"
   ]
  },
  {
   "cell_type": "code",
   "execution_count": 6,
   "id": "fb72c2e8",
   "metadata": {},
   "outputs": [],
   "source": [
    "y_pred = cart_model.predict(X_test)"
   ]
  },
  {
   "cell_type": "code",
   "execution_count": 7,
   "id": "480644eb",
   "metadata": {},
   "outputs": [
    {
     "data": {
      "text/plain": [
       "0.7229437229437229"
      ]
     },
     "execution_count": 7,
     "metadata": {},
     "output_type": "execute_result"
    }
   ],
   "source": [
    "accuracy_score(y_test, y_pred)"
   ]
  },
  {
   "cell_type": "markdown",
   "id": "e640f57b",
   "metadata": {},
   "source": [
    "### Model Tuning "
   ]
  },
  {
   "cell_type": "code",
   "execution_count": 8,
   "id": "75766b05",
   "metadata": {},
   "outputs": [],
   "source": [
    "cart = DecisionTreeClassifier()"
   ]
  },
  {
   "cell_type": "code",
   "execution_count": 16,
   "id": "2c20ed84",
   "metadata": {},
   "outputs": [],
   "source": [
    "cart_params = {\"max_depth\" : [1,3,5,8,10],\n",
    "              \"min_samples_split\" : [2,3,5,10,20,50]}"
   ]
  },
  {
   "cell_type": "code",
   "execution_count": 17,
   "id": "39f12691",
   "metadata": {},
   "outputs": [
    {
     "name": "stdout",
     "output_type": "stream",
     "text": [
      "Fitting 10 folds for each of 30 candidates, totalling 300 fits\n"
     ]
    }
   ],
   "source": [
    "cart_cv_model = GridSearchCV(cart, cart_params, cv = 10, n_jobs = -1, verbose = 2).fit(X_train, y_train)"
   ]
  },
  {
   "cell_type": "code",
   "execution_count": 18,
   "id": "442f9a29",
   "metadata": {},
   "outputs": [
    {
     "data": {
      "text/plain": [
       "{'max_depth': 5, 'min_samples_split': 20}"
      ]
     },
     "execution_count": 18,
     "metadata": {},
     "output_type": "execute_result"
    }
   ],
   "source": [
    "cart_cv_model.best_params_"
   ]
  },
  {
   "cell_type": "code",
   "execution_count": 19,
   "id": "3b816a68",
   "metadata": {},
   "outputs": [],
   "source": [
    "# final modeli\n",
    "cart_tuned = DecisionTreeClassifier(max_depth =5, min_samples_split=20).fit(X_train, y_train)"
   ]
  },
  {
   "cell_type": "code",
   "execution_count": 20,
   "id": "adb14763",
   "metadata": {},
   "outputs": [],
   "source": [
    "y_pred = cart_tuned.predict(X_test)"
   ]
  },
  {
   "cell_type": "code",
   "execution_count": 21,
   "id": "36ad17f7",
   "metadata": {},
   "outputs": [
    {
     "data": {
      "text/plain": [
       "0.7532467532467533"
      ]
     },
     "execution_count": 21,
     "metadata": {},
     "output_type": "execute_result"
    }
   ],
   "source": [
    "accuracy_score(y_test, y_pred)"
   ]
  },
  {
   "cell_type": "code",
   "execution_count": null,
   "id": "ecd82120",
   "metadata": {},
   "outputs": [],
   "source": []
  }
 ],
 "metadata": {
  "kernelspec": {
   "display_name": "Python 3",
   "language": "python",
   "name": "python3"
  },
  "language_info": {
   "codemirror_mode": {
    "name": "ipython",
    "version": 3
   },
   "file_extension": ".py",
   "mimetype": "text/x-python",
   "name": "python",
   "nbconvert_exporter": "python",
   "pygments_lexer": "ipython3",
   "version": "3.8.8"
  }
 },
 "nbformat": 4,
 "nbformat_minor": 5
}
